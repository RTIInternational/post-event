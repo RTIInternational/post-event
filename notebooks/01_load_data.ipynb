{
 "cells": [
  {
   "cell_type": "markdown",
   "id": "37ffdf4b-5e6f-4c29-8358-a6d371c45c1b",
   "metadata": {
    "tags": []
   },
   "source": [
    "# Load Post-Event Evaluation Data\n",
    "This notebook walks through the steps to load NWM operational forecasts and verifying observations into a cache of parquet files to enable interactive, visual evaluation of the forecasts. The steps of the loading process include the following:\n",
    "\n",
    "1. Start a cluster\n",
    "2. Initialize configurations and select a new or prior event\n",
    "3. Define/view event specs (name, dates, and regional extents)\n",
    "4. Choose datasets to load\n",
    "5. Load the data\n",
    "(Repeat steps 4-5 for each forecast configuration)\n",
    "\n",
    "### Load packages "
   ]
  },
  {
   "cell_type": "code",
   "execution_count": null,
   "id": "a6744703-62b0-42bf-9fe9-1a41bf537db9",
   "metadata": {},
   "outputs": [],
   "source": [
    "import post_event_utils as pu\n",
    "from pathlib import Path\n",
    "import panel as pn\n",
    "pn.extension()"
   ]
  },
  {
   "cell_type": "markdown",
   "id": "1f339a38-b3fe-49e5-9ce4-0f225b3cea58",
   "metadata": {},
   "source": [
    "## 1. Start a cluster\n",
    "Before loading data, start a cluster of nodes for distributed computing to make the loading faster. If running on the TEEHR Hub (detected automatically based on JupyterHub global username 'jovyan') use 4 workers for a small instance and 16 workers for a large instance. (Automatic detection and setting workers to be added).  The cluster will remain active until you shut it down manually (client.close() or shut down the server.\n",
    "\n",
    "**To monitor data loading progress**:\n",
    "- Click on the Dashboard URL that appears after running the cell below - **Not currently working on TEEHR Hub**\n",
    "- Go to the dashboard after launching the data loading step further below"
   ]
  },
  {
   "cell_type": "code",
   "execution_count": null,
   "id": "b3022b0c-e812-43b9-82d6-52b922907ad7",
   "metadata": {
    "tags": []
   },
   "outputs": [],
   "source": [
    "if 'client' not in locals():\n",
    "    client = pu.get_client()\n",
    "client"
   ]
  },
  {
   "cell_type": "markdown",
   "id": "22b96a5d-67f7-43ae-a61c-b90cbdd718e5",
   "metadata": {
    "tags": []
   },
   "source": [
    "## 2. Initialize configurations and select a new or prior event\n",
    "\n",
    "- Read the directory configurations and filenames from ```post_event_config.json``` (see the respository README for instructions to customize the config file and download necessary geometry files if running locally)\n",
    "- Read event definitions file ```ROOT_DIR/post-event/events/event_definitions.json```, choose to 'define new event' or select a previously defined "
   ]
  },
  {
   "cell_type": "code",
   "execution_count": null,
   "id": "7687835b-0fa4-4bba-9f62-284eeda0fdba",
   "metadata": {
    "tags": []
   },
   "outputs": [],
   "source": [
    "config = pu.Config(Path(\"../config/post_event_config.json\"))\n",
    "config.select_event"
   ]
  },
  {
   "cell_type": "markdown",
   "id": "ac8dc087-1132-413d-9360-ef831f043837",
   "metadata": {
    "tags": []
   },
   "source": [
    "## 3. Define/view event specs (name, event dates, and regional extents)\n",
    "\n",
    "- The event name is used as the directory name to organize parquet files by event (for faster querying) and for reference in subsequent notebooks\n",
    "- The dates selected in this step are the start and end dates **of the event** (use the same date for a single-day event)\n",
    "- The regional extent can be selected as one or more HUC2s, a lat/lon bounding box, or both (e.g., to select a portion of a HUC2)  -  **currently CONUS only**"
   ]
  },
  {
   "cell_type": "code",
   "execution_count": null,
   "id": "3480fe47-51f1-42ed-822a-b4a58100b435",
   "metadata": {
    "tags": []
   },
   "outputs": [],
   "source": [
    "config.get_event_specs()\n",
    "config.get_geometry()\n",
    "event_selector = pu.get_event_selector(config)\n",
    "pu.build_event_selector_dashboard(event_selector)\n",
    "\n",
    "# Some known issues with the selection map\n",
    "# - BoxEdit holoviews stream tool not working, latlon limits is a work around\n",
    "# - Rerendering is slow after changes to lat/lon limits\n",
    "# - Selected HUC2s disappear if lat/lon limits are changed AFTER HUC2s selected - see notes in post_event_utils.py"
   ]
  },
  {
   "cell_type": "markdown",
   "id": "2115aa1b-5140-494b-92f4-379611291c29",
   "metadata": {},
   "source": [
    "## 4. Choose datasets to load\n",
    "- Define the datasets you want to load for the above defined event \n",
    "- All data available on a given **date** will be loaded (if an hour is specified, it is ignored).\n",
    "- If the NWM forecast configuration is not 'none', dates are reference/issue dates. If forecast_config is 'none', dates are value dates\n",
    "  \n",
    "*Currently only set up for CONUS - other domains to be added  \n",
    "*Currently only set up for streamflow and precipitation - other variables to be added (if warranted)"
   ]
  },
  {
   "cell_type": "code",
   "execution_count": null,
   "id": "7b3f9b3b-b07f-47ad-84a3-21ce511b64bf",
   "metadata": {
    "tags": []
   },
   "outputs": [],
   "source": [
    "config.update_event_specs(event_selector)\n",
    "data_selector = pu.DataSelector(config=config)\n",
    "pu.build_data_selector_dashboard(data_selector)"
   ]
  },
  {
   "cell_type": "markdown",
   "id": "4de5e87e-9913-458e-9b14-139f3513a603",
   "metadata": {},
   "source": [
    "## 5. Load data\n",
    "\n",
    "**Streamflow**:  \n",
    "- Load the streamflow data for the data sources (forecast and/or observed) and reach set defined above.\n",
    "\n",
    "**Mean areal precipitation**:  \n",
    "- Load the forcing (mean areal precipitation) data for the data sources (forecast and/or observed) and polygons defined above. \n",
    "- MAP polygon options are currently HUC10s and USGS gage basins in this notebook, however grid weights can be externally calculated in TEEHR for any polygon layer."
   ]
  },
  {
   "cell_type": "code",
   "execution_count": null,
   "id": "a014d9e6-be1c-42f6-8aa4-d42e687c9399",
   "metadata": {
    "tags": []
   },
   "outputs": [],
   "source": [
    "pu.launch_teehr_streamflow_loading(config, data_selector)\n",
    "pu.launch_teehr_precipitation_loading(config, data_selector)"
   ]
  },
  {
   "cell_type": "code",
   "execution_count": null,
   "id": "efec0b6c-b2c9-41c5-b409-69cd73b9fe83",
   "metadata": {},
   "outputs": [],
   "source": [
    "client.close()"
   ]
  }
 ],
 "metadata": {
  "kernelspec": {
   "display_name": "Python 3 (ipykernel)",
   "language": "python",
   "name": "python3"
  },
  "language_info": {
   "codemirror_mode": {
    "name": "ipython",
    "version": 3
   },
   "file_extension": ".py",
   "mimetype": "text/x-python",
   "name": "python",
   "nbconvert_exporter": "python",
   "pygments_lexer": "ipython3",
   "version": "3.10.12"
  }
 },
 "nbformat": 4,
 "nbformat_minor": 5
}
