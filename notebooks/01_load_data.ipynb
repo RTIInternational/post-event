{
 "cells": [
  {
   "cell_type": "markdown",
   "id": "37ffdf4b-5e6f-4c29-8358-a6d371c45c1b",
   "metadata": {
    "tags": []
   },
   "source": [
    "# Load Single Event Evaluation Data\n",
    "#####\n",
    "This notebook walks through the steps to load NWM operational forecasts and verifying observations into a cache of parquet files to enable interactive, visual evaluation of the forecasts. The steps of the loading process include the following:\n",
    "\n",
    "<ol>\n",
    "    <li>Start a cluster</li>\n",
    "    <li>Initialize configurations and select a new or prior event</li>\n",
    "    <li>Define/view event specs (name, dates, and regional extents)</li>\n",
    "    <li>Choose datasets to load</li>\n",
    "    <li>Load the data</li>\n",
    "</ol>\n",
    "(Repeat steps 4-5 for each forecast configuration)  \n",
    "\n",
    "\n",
    "### Load packages "
   ]
  },
  {
   "cell_type": "code",
   "execution_count": null,
   "id": "a6744703-62b0-42bf-9fe9-1a41bf537db9",
   "metadata": {},
   "outputs": [],
   "source": [
    "from pathlib import Path\n",
    "import panel as pn\n",
    "pn.extension()\n",
    "\n",
    "from postevent import config\n",
    "from postevent.setup import (\n",
    "    load,\n",
    "    class_event,\n",
    "    build_event,\n",
    "    class_data,\n",
    "    build_data,\n",
    ")\n",
    "\n",
    "# temporary\n",
    "import importlib"
   ]
  },
  {
   "cell_type": "markdown",
   "id": "1f339a38-b3fe-49e5-9ce4-0f225b3cea58",
   "metadata": {},
   "source": [
    "## 1. Start a cluster\n",
    "Before loading data, start a cluster of nodes for distributed computing to make the loading faster. If running on the TEEHR Hub (detected automatically based on JupyterHub global username 'jovyan') use 4 workers for a small instance and 16 workers for a large instance. The cluster will remain active until you shut it down manually (client.close()) or shut down the server."
   ]
  },
  {
   "cell_type": "code",
   "execution_count": null,
   "id": "b3022b0c-e812-43b9-82d6-52b922907ad7",
   "metadata": {
    "tags": []
   },
   "outputs": [],
   "source": [
    "if 'client' not in locals():\n",
    "    client = load.get_client()\n",
    "client"
   ]
  },
  {
   "cell_type": "markdown",
   "id": "22b96a5d-67f7-43ae-a61c-b90cbdd718e5",
   "metadata": {
    "tags": []
   },
   "source": [
    "## 2. Initialize configurations and select a new or prior event\n",
    "\n",
    "<ul>\n",
    "    <li>Read path configurations and filenames from <code>post_event_config.json</code> (see the respository README for instructions to customize the config file and download necessary geometry files if running locally)</li>\n",
    "    <li>Read event definitions file <code>ROOT_DIR/post-event/events/event_definitions.json</code>, choose to 'define new event' or select a previously defined event to load more data for that event</li>\n",
    "</ul>"
   ]
  },
  {
   "cell_type": "code",
   "execution_count": null,
   "id": "7687835b-0fa4-4bba-9f62-284eeda0fdba",
   "metadata": {
    "tags": []
   },
   "outputs": [],
   "source": [
    "importlib.reload(config)\n",
    "paths = config.Paths(\"post_event_config_teehrhub.json\")                   \n",
    "paths.event_name_selector = paths.event_name_selector_with_new\n",
    "paths.event_name_selector"
   ]
  },
  {
   "cell_type": "markdown",
   "id": "a25b533a-c14b-4f43-a61e-4fbf4f0dc93b",
   "metadata": {},
   "source": [
    "#### Update based on event selections and proceed"
   ]
  },
  {
   "cell_type": "code",
   "execution_count": null,
   "id": "33601349-fc14-4ef2-b605-d5f407446f59",
   "metadata": {
    "tags": []
   },
   "outputs": [],
   "source": [
    "paths.update_loading_options()\n",
    "event = config.Event(paths) \n",
    "geo = config.Geo(paths, event)"
   ]
  },
  {
   "cell_type": "markdown",
   "id": "ac8dc087-1132-413d-9360-ef831f043837",
   "metadata": {
    "tags": []
   },
   "source": [
    "## 3. Define event information (name, event dates, and regional extents)\n",
    "\n",
    "<ul>\n",
    "    <li>The event name is used as the directory name to organize parquet files by event (for faster querying) and for reference in subsequent notebooks</li>\n",
    "    <li>The dates selected in this step are the start and end dates <b>of the event</b> (use the same date for a single-day event)</li>\n",
    "    <li>The regional extent can be selected as one or more HUC2s, a lat/lon bounding box, or both (e.g., to select a portion of a HUC2) - currently CONUS only</li>\n",
    "</ul>\n"
   ]
  },
  {
   "cell_type": "code",
   "execution_count": null,
   "id": "c19fb6a7-ec58-40dd-b577-f77d3a69dadf",
   "metadata": {
    "tags": []
   },
   "outputs": [],
   "source": [
    "importlib.reload(class_event)\n",
    "importlib.reload(build_event)\n",
    "\n",
    "event_selector = class_event.EventSelector(\n",
    "    dir_name = event.dir_name, \n",
    "    event_start_date = event.event_start_date, \n",
    "    event_end_date = event.event_end_date,\n",
    "    event=event,\n",
    "    paths=paths,\n",
    "    region=class_event.RegionSelector(\n",
    "        geo=geo)\n",
    ")\n",
    "build_event.build(event_selector)"
   ]
  },
  {
   "cell_type": "markdown",
   "id": "2e65b0a9-f0b1-4fbd-8577-f40ef325a0b9",
   "metadata": {},
   "source": [
    "####   Update event specs based on above selections to proceed with data loading"
   ]
  },
  {
   "cell_type": "code",
   "execution_count": null,
   "id": "9895673f-b6fc-4eaf-adec-a1eb5fa2bc52",
   "metadata": {},
   "outputs": [],
   "source": [
    "event_selector.update_event_specs()"
   ]
  },
  {
   "cell_type": "markdown",
   "id": "2115aa1b-5140-494b-92f4-379611291c29",
   "metadata": {
    "tags": []
   },
   "source": [
    "## 4. Choose datasets to load\n",
    "\n",
    "<ul>\n",
    "    <li>Define the datasets you want to load for the above defined event</li>\n",
    "    <li>All data available on a given <b>date</b> will be loaded (if an hour is specified, it is ignored)</li>\n",
    "    <li>If the NWM forecast configuration is not 'none', dates are reference/issue dates. If forecast_config is 'none', dates are value dates </li>  \n",
    "</ul>\n",
    "  \n",
    "*Currently only set up for CONUS - other domains to be added  \n",
    "*Currently only set up for streamflow and precipitation - other variables to be added (if warranted)"
   ]
  },
  {
   "cell_type": "code",
   "execution_count": null,
   "id": "71cf5ea9-115a-419f-aa16-1bc60dacf075",
   "metadata": {
    "editable": true,
    "slideshow": {
     "slide_type": ""
    },
    "tags": []
   },
   "outputs": [],
   "source": [
    "importlib.reload(class_data)\n",
    "importlib.reload(build_data)\n",
    "\n",
    "data_selector = class_data.DataSelector_NWMOperational(\n",
    "    paths=paths,\n",
    "    event=event,\n",
    "    dates=config.Dates(\n",
    "        paths=paths, \n",
    "        event=event)\n",
    ")\n",
    "build_data.build(data_selector, geo)"
   ]
  },
  {
   "cell_type": "markdown",
   "id": "4de5e87e-9913-458e-9b14-139f3513a603",
   "metadata": {
    "editable": true,
    "slideshow": {
     "slide_type": ""
    },
    "tags": []
   },
   "source": [
    "## 5. Create the parquet filesets\n",
    "\n",
    "##### Streamflow:\n",
    "<ul>\n",
    "    <li>Load the streamflow data for the data sources (forecast and/or observed) and reach set defined above</li>\n",
    "</ul>\n",
    "\n",
    "##### Mean areal precipitation:  \n",
    "<ul>\n",
    "    <li>Load the forcing (mean areal precipitation) data for the data sources (forecast and/or observed) and polygons defined above</li>\n",
    "    <li>MAP polygon options are currently HUC10s and USGS gage basins in this notebook, however grid weights can be externally calculated in TEEHR for any polygon layer</li>\n",
    "</ul>"
   ]
  },
  {
   "cell_type": "code",
   "execution_count": null,
   "id": "a014d9e6-be1c-42f6-8aa4-d42e687c9399",
   "metadata": {
    "tags": []
   },
   "outputs": [],
   "source": [
    "importlib.reload(load)\n",
    "load.launch_teehr_streamflow_loading(paths, event, data_selector)\n",
    "load.launch_teehr_precipitation_loading(paths, event, geo, data_selector)"
   ]
  }
 ],
 "metadata": {
  "kernelspec": {
   "display_name": "Python 3 (ipykernel)",
   "language": "python",
   "name": "python3"
  },
  "language_info": {
   "codemirror_mode": {
    "name": "ipython",
    "version": 3
   },
   "file_extension": ".py",
   "mimetype": "text/x-python",
   "name": "python",
   "nbconvert_exporter": "python",
   "pygments_lexer": "ipython3",
   "version": "3.11.8"
  }
 },
 "nbformat": 4,
 "nbformat_minor": 5
}
